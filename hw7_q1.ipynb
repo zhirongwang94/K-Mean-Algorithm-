{
  "nbformat": 4,
  "nbformat_minor": 0,
  "metadata": {
    "colab": {
      "name": "hw7-q1.ipynb",
      "provenance": [],
      "collapsed_sections": [],
      "authorship_tag": "ABX9TyOzSOOPZdDfun6adD/AtG/3",
      "include_colab_link": true
    },
    "kernelspec": {
      "display_name": "Python 3",
      "name": "python3"
    }
  },
  "cells": [
    {
      "cell_type": "markdown",
      "metadata": {
        "id": "view-in-github",
        "colab_type": "text"
      },
      "source": [
        "<a href=\"https://colab.research.google.com/github/zhirongwang94/K-Mean-Algorithm-/blob/main/hw7_q1.ipynb\" target=\"_parent\"><img src=\"https://colab.research.google.com/assets/colab-badge.svg\" alt=\"Open In Colab\"/></a>"
      ]
    },
    {
      "cell_type": "code",
      "metadata": {
        "id": "o6CLk8acbYo1"
      },
      "source": [
        "#from google.colab import files \n",
        "#uploaded = files.upload()"
      ],
      "execution_count": null,
      "outputs": []
    },
    {
      "cell_type": "code",
      "metadata": {
        "colab": {
          "base_uri": "https://localhost:8080/"
        },
        "id": "gs0lOWVtiVX3",
        "outputId": "130348f1-f4e5-4afb-89d2-677307dc9888"
      },
      "source": [
        "!ls"
      ],
      "execution_count": null,
      "outputs": [
        {
          "output_type": "stream",
          "text": [
            "batch.txt\t\t\tmlgenetics_hw7_TRAIN.txt  sample_data\n",
            "mlgenetics_hw7_TRAIN_batch.txt\tnewfile.txt\n"
          ],
          "name": "stdout"
        }
      ]
    },
    {
      "cell_type": "code",
      "metadata": {
        "id": "PK6YMc3jahfJ"
      },
      "source": [
        "import numpy as np\n",
        "import pandas as pd\n",
        "import matplotlib.pyplot as plt\n",
        "%matplotlib inline"
      ],
      "execution_count": null,
      "outputs": []
    },
    {
      "cell_type": "code",
      "metadata": {
        "colab": {
          "base_uri": "https://localhost:8080/",
          "height": 91
        },
        "id": "aNMsMqEmalxN",
        "outputId": "1fd75982-b111-43ef-8219-6fa1859bec25"
      },
      "source": [
        "with open('mlgenetics_hw7_TRAIN_batch.txt') as fin1, open('batch.txt', 'w') as fout1:\n",
        "    for line in fin1:\n",
        "        fout1.write(line.replace('\\t', ','))\n",
        "        \n",
        "with open('mlgenetics_hw7_TRAIN.txt') as fin, open('newfile.txt', 'w') as fout:\n",
        "    for line in fin:\n",
        "        fout.write(line.replace('\\t', ','))\n",
        "        \n",
        "#df.iloc[:,1:].describe()\n",
        "#for c in df.columns[1:]:\n",
        "\"\"\"\n",
        "for c in df.columns[1:]:\n",
        "    df.boxplot(c,by='Class',figsize=(7,4),fontsize=14)\n",
        "    plt.title(\"{}\\n\".format(c),fontsize=16)\n",
        "    plt.xlabel(\"Wine Class\", fontsize=16)\n",
        "    \"\"\""
      ],
      "execution_count": null,
      "outputs": [
        {
          "output_type": "execute_result",
          "data": {
            "application/vnd.google.colaboratory.intrinsic+json": {
              "type": "string"
            },
            "text/plain": [
              "'\\nfor c in df.columns[1:]:\\n    df.boxplot(c,by=\\'Class\\',figsize=(7,4),fontsize=14)\\n    plt.title(\"{}\\n\".format(c),fontsize=16)\\n    plt.xlabel(\"Wine Class\", fontsize=16)\\n    '"
            ]
          },
          "metadata": {
            "tags": []
          },
          "execution_count": 152
        }
      ]
    },
    {
      "cell_type": "code",
      "metadata": {
        "colab": {
          "base_uri": "https://localhost:8080/",
          "height": 374
        },
        "id": "xYPLZq9qkGu0",
        "outputId": "c0628f77-d9bf-43d3-b035-a3ae6065d432"
      },
      "source": [
        "\n",
        "# df = pd.read_csv('out.csv', header = None, names = columns)\n",
        "df_batch = pd.read_csv('./batch.txt', header=None)\n",
        "df = pd.read_csv('./newfile.txt', header=None)\n",
        "df_batch.head(10)"
      ],
      "execution_count": null,
      "outputs": [
        {
          "output_type": "execute_result",
          "data": {
            "text/html": [
              "<div>\n",
              "<style scoped>\n",
              "    .dataframe tbody tr th:only-of-type {\n",
              "        vertical-align: middle;\n",
              "    }\n",
              "\n",
              "    .dataframe tbody tr th {\n",
              "        vertical-align: top;\n",
              "    }\n",
              "\n",
              "    .dataframe thead th {\n",
              "        text-align: right;\n",
              "    }\n",
              "</style>\n",
              "<table border=\"1\" class=\"dataframe\">\n",
              "  <thead>\n",
              "    <tr style=\"text-align: right;\">\n",
              "      <th></th>\n",
              "      <th>0</th>\n",
              "    </tr>\n",
              "  </thead>\n",
              "  <tbody>\n",
              "    <tr>\n",
              "      <th>0</th>\n",
              "      <td>0</td>\n",
              "    </tr>\n",
              "    <tr>\n",
              "      <th>1</th>\n",
              "      <td>0</td>\n",
              "    </tr>\n",
              "    <tr>\n",
              "      <th>2</th>\n",
              "      <td>1</td>\n",
              "    </tr>\n",
              "    <tr>\n",
              "      <th>3</th>\n",
              "      <td>0</td>\n",
              "    </tr>\n",
              "    <tr>\n",
              "      <th>4</th>\n",
              "      <td>0</td>\n",
              "    </tr>\n",
              "    <tr>\n",
              "      <th>5</th>\n",
              "      <td>1</td>\n",
              "    </tr>\n",
              "    <tr>\n",
              "      <th>6</th>\n",
              "      <td>1</td>\n",
              "    </tr>\n",
              "    <tr>\n",
              "      <th>7</th>\n",
              "      <td>0</td>\n",
              "    </tr>\n",
              "    <tr>\n",
              "      <th>8</th>\n",
              "      <td>0</td>\n",
              "    </tr>\n",
              "    <tr>\n",
              "      <th>9</th>\n",
              "      <td>0</td>\n",
              "    </tr>\n",
              "  </tbody>\n",
              "</table>\n",
              "</div>"
            ],
            "text/plain": [
              "   0\n",
              "0  0\n",
              "1  0\n",
              "2  1\n",
              "3  0\n",
              "4  0\n",
              "5  1\n",
              "6  1\n",
              "7  0\n",
              "8  0\n",
              "9  0"
            ]
          },
          "metadata": {
            "tags": []
          },
          "execution_count": 153
        }
      ]
    },
    {
      "cell_type": "markdown",
      "metadata": {
        "id": "YHNWMAw0doIh"
      },
      "source": [
        "# Principal Component Analysis\n",
        "Data Scaling"
      ]
    },
    {
      "cell_type": "code",
      "metadata": {
        "colab": {
          "base_uri": "https://localhost:8080/"
        },
        "id": "Ue6gv2cwdtrL",
        "outputId": "13e37856-2e85-462d-ad5a-6f6363d06563"
      },
      "source": [
        "from sklearn.preprocessing import StandardScaler\n",
        "scaler = StandardScaler()\n",
        "\n",
        "\n",
        "X = scaler.fit_transform(df)\n",
        "\n",
        "dfx = pd.DataFrame(data=X,columns=df.columns[0:])\n",
        "#dfx\n",
        "#dfx.head(10)\n",
        "#dfx.describe()\n",
        "\n",
        "len(df.columns[0:])"
      ],
      "execution_count": null,
      "outputs": [
        {
          "output_type": "execute_result",
          "data": {
            "text/plain": [
              "5000"
            ]
          },
          "metadata": {
            "tags": []
          },
          "execution_count": 154
        }
      ]
    },
    {
      "cell_type": "markdown",
      "metadata": {
        "id": "PMaEGl-SeY_8"
      },
      "source": [
        "PCA class import and analysis"
      ]
    },
    {
      "cell_type": "code",
      "metadata": {
        "colab": {
          "base_uri": "https://localhost:8080/"
        },
        "id": "mFhai-ySec7U",
        "outputId": "7ed9b742-d9cc-4e47-d697-355918016162"
      },
      "source": [
        "from sklearn.decomposition import PCA\n",
        "pca = PCA(n_components=None)\n",
        "dfx_pca = pca.fit(dfx)\n",
        "dfx_trans = pca.transform(dfx)\n",
        "new_df = pd.DataFrame(data=dfx_trans)\n",
        "\n",
        "y=dfx_pca.explained_variance_ratio_\n",
        "first_ten_PCs = y[0:10]\n",
        "proportion =  sum(first_ten_PCs)\n",
        "print(\"proportion: \", proportion)\n",
        "\n",
        "\n"
      ],
      "execution_count": null,
      "outputs": [
        {
          "output_type": "stream",
          "text": [
            "proportion:  0.5547771105031493\n"
          ],
          "name": "stdout"
        }
      ]
    },
    {
      "cell_type": "markdown",
      "metadata": {
        "id": "LSOXmC9a-dfk"
      },
      "source": [
        "# Problem 2\n",
        "Calculate the squared correlation between PCs and batch  "
      ]
    },
    {
      "cell_type": "code",
      "metadata": {
        "colab": {
          "base_uri": "https://localhost:8080/"
        },
        "id": "pfJcvvIm-kDV",
        "outputId": "70b5e9d2-892e-4302-932c-f51c8061e536"
      },
      "source": [
        "new_df = new_df\n",
        "first_ten_PC = new_df.iloc[:, 0:10]\n",
        "first_ten_PC\n",
        "\n",
        "corr_list = []\n",
        "\n",
        "for i in range(0,10):\n",
        "  correlation = new_df[i].corr(df_batch[0])\n",
        "  corr_list.append(correlation ** 2)\n",
        "\n",
        "corr_list\n"
      ],
      "execution_count": null,
      "outputs": [
        {
          "output_type": "execute_result",
          "data": {
            "text/plain": [
              "[0.01881290108965872,\n",
              " 1.6444026453456694e-05,\n",
              " 4.13773526622334e-06,\n",
              " 0.0009214774197723342,\n",
              " 0.0026838480393231974,\n",
              " 0.0003828935971360709,\n",
              " 0.020803313183756746,\n",
              " 0.010636149745625248,\n",
              " 0.37710748703552904,\n",
              " 0.14501438801052222]"
            ]
          },
          "metadata": {
            "tags": []
          },
          "execution_count": 181
        }
      ]
    }
  ]
}