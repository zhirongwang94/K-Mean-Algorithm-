{
  "nbformat": 4,
  "nbformat_minor": 0,
  "metadata": {
    "colab": {
      "name": "part-a-b-c-noscaled.ipynb",
      "provenance": [],
      "collapsed_sections": [
        "ToAs5alkxYfX",
        "BofS1BSoy93P",
        "MwS69VBY0AjV",
        "AZe8TS26O3B4"
      ],
      "authorship_tag": "ABX9TyPSIz1niYM5gBGI1mAV410M",
      "include_colab_link": true
    },
    "kernelspec": {
      "name": "python3",
      "display_name": "Python 3"
    }
  },
  "cells": [
    {
      "cell_type": "markdown",
      "metadata": {
        "id": "view-in-github",
        "colab_type": "text"
      },
      "source": [
        "<a href=\"https://colab.research.google.com/github/zhirongwang94/K-Mean-Algorithm-/blob/main/part_a_b_c_noscaled.ipynb\" target=\"_parent\"><img src=\"https://colab.research.google.com/assets/colab-badge.svg\" alt=\"Open In Colab\"/></a>"
      ]
    },
    {
      "cell_type": "code",
      "metadata": {
        "id": "i5atxv43gjb9"
      },
      "source": [
        "from google.colab import files\n",
        "uploaded = files.upload()"
      ],
      "execution_count": null,
      "outputs": []
    },
    {
      "cell_type": "markdown",
      "metadata": {
        "id": "ToAs5alkxYfX"
      },
      "source": [
        "# Preprocess Data\n",
        "\n",
        "*   input: mlgenetics_hw7_TRAIN_batch.txt\tmlgenetics_hw7_TRAIN.txt\n",
        "*   output: dfx, dfx_scaled, dfy, dd\n",
        "\n",
        "\n"
      ]
    },
    {
      "cell_type": "code",
      "metadata": {
        "id": "EcbylvkVxkjk"
      },
      "source": [
        "import numpy as np\n",
        "import pandas as pd\n",
        "import matplotlib.pyplot as plt\n",
        "from sklearn.preprocessing import StandardScaler\n",
        "%matplotlib inline\n",
        "\n",
        "# read files to scv files\n",
        "with open('mlgenetics_hw7_TRAIN_batch.txt') as fin1, open('y.txt', 'w') as fout1:\n",
        "    for line in fin1:\n",
        "        fout1.write(line.replace('\\t', ','))\n",
        "        \n",
        "with open('mlgenetics_hw7_TRAIN.txt') as fin2, open('x.txt', 'w') as fout2:\n",
        "    for line in fin2:\n",
        "        fout2.write(line.replace('\\t', ','))\n",
        "\n",
        "# read csv files to data frame\n",
        "dfy = pd.read_csv('./y.txt', header=None)\n",
        "dfx = pd.read_csv('./x.txt', header=None)\n",
        "\n",
        "# scaled datafile \n",
        "scaler = StandardScaler()\n",
        "x_scaled = scaler.fit_transform(dfx)\n",
        "dfx_scaled = pd.DataFrame(data=x_scaled)"
      ],
      "execution_count": 70,
      "outputs": []
    },
    {
      "cell_type": "markdown",
      "metadata": {
        "id": "BofS1BSoy93P"
      },
      "source": [
        "# PCA to reduce dimension\n",
        "*   input: dfx\n",
        "*   output: dfx_pca\n"
      ]
    },
    {
      "cell_type": "code",
      "metadata": {
        "colab": {
          "base_uri": "https://localhost:8080/"
        },
        "id": "avIdDeDPzS1m",
        "outputId": "457ab004-6149-466b-863e-5f78e770c0d2"
      },
      "source": [
        "from sklearn.decomposition import PCA\n",
        "from sklearn import decomposition\n",
        "\n",
        "pca = decomposition.PCA(n_components=10)\n",
        "pca_model=pca.fit(dfx)\n",
        "\n",
        "x_pca=pca.transform(dfx)\n",
        "dfx_pca = pd.DataFrame( data=x_pca)\n",
        "x_pca.shape"
      ],
      "execution_count": 71,
      "outputs": [
        {
          "output_type": "execute_result",
          "data": {
            "text/plain": [
              "(658, 10)"
            ]
          },
          "metadata": {
            "tags": []
          },
          "execution_count": 71
        }
      ]
    },
    {
      "cell_type": "markdown",
      "metadata": {
        "id": "FW9lQejgHWM3"
      },
      "source": [
        "# Part(a) Variance Ratio Calculation\n",
        "\n",
        "\n",
        "*   input: pca_model\n",
        "*   output: dfvar_ratio, var_ratio\n",
        "\n"
      ]
    },
    {
      "cell_type": "code",
      "metadata": {
        "colab": {
          "base_uri": "https://localhost:8080/"
        },
        "id": "6wy84e3ZHhYn",
        "outputId": "8062a01b-757c-4401-cd5e-b231b9d91473"
      },
      "source": [
        "import numpy as np\n",
        "\n",
        "var_ratio = pca_model.explained_variance_ratio_\n",
        "dfvar_ratio = pd.DataFrame(data=var_ratio)\n",
        "print(dfvar_ratio.head(10))\n",
        "print(\"Part(a), sum of variance ratio: \", sum(var_ratio[0:10]))"
      ],
      "execution_count": 72,
      "outputs": [
        {
          "output_type": "stream",
          "text": [
            "          0\n",
            "0  0.180691\n",
            "1  0.085472\n",
            "2  0.035048\n",
            "3  0.031612\n",
            "4  0.021273\n",
            "5  0.017716\n",
            "6  0.016050\n",
            "7  0.015608\n",
            "8  0.014430\n",
            "9  0.011793\n",
            "Part(a), sum of variance ratio:  0.42969374945848937\n"
          ],
          "name": "stdout"
        }
      ]
    },
    {
      "cell_type": "markdown",
      "metadata": {
        "id": "AZe8TS26O3B4"
      },
      "source": [
        "# Part(b) Correlation Calculation \n",
        "\n",
        "\n",
        "*   Input: dfx_pca, dfy\n",
        "*   List dfcorre, corre\n",
        "\n"
      ]
    },
    {
      "cell_type": "code",
      "metadata": {
        "colab": {
          "base_uri": "https://localhost:8080/"
        },
        "id": "62DBEEuiP3Jz",
        "outputId": "df3c580f-a624-423a-f0a8-7116130e7cdd"
      },
      "source": [
        "max_index = 0\n",
        "max_corre = 0\n",
        "corre = []\n",
        "for i in range(0, 10):\n",
        "  correlation = dfx_pca[i].corr(dfy[0]) ** 2\n",
        "  corre.append(correlation) \n",
        "  if correlation > max_corre:\n",
        "    max_corre = correlation\n",
        "    max_index = i\n",
        "  \n",
        "\n",
        "print(\"correlation: \", corre)\n",
        "print(\"part(b), max index\", max_index+1)"
      ],
      "execution_count": 73,
      "outputs": [
        {
          "output_type": "stream",
          "text": [
            "correlation:  [0.01935156523799803, 0.00025291510326596586, 0.00017872311206574307, 0.0002781896688854052, 0.0021764079552465893, 0.00019379789369280786, 0.017968019439520273, 0.03336347772035794, 0.0009367983119398085, 0.2114625811616169]\n",
            "part(b), max index 10\n"
          ],
          "name": "stdout"
        }
      ]
    },
    {
      "cell_type": "markdown",
      "metadata": {
        "id": "IOinKtwgsgm0"
      },
      "source": [
        "# Part(c) Loadings\n",
        "\n",
        "\n",
        "*   Input:\n",
        "*   Output: \n",
        "\n"
      ]
    },
    {
      "cell_type": "code",
      "metadata": {
        "colab": {
          "base_uri": "https://localhost:8080/"
        },
        "id": "C5l9unRXsspd",
        "outputId": "ad960521-6f67-4abd-8260-25d199e69a24"
      },
      "source": [
        "column_names = ['PC1', 'PC2', 'PC3', 'PC4', 'PC5', 'PC6', 'PC7', 'PC8', 'PC9', 'PC10' ]\n",
        "dfloadings = pd.DataFrame(data=pca.components_.T, columns=column_names).abs()\n",
        "loadings = dfloadings.sum(axis=1).tolist()\n",
        "largest_indices = np.argsort(loadings)[::-1]\n",
        "correlated_sites = np.sort(largest_indices[0:1000])\n",
        "\n",
        "# correlated_sites = largest_indices\n",
        "dfx_new = dfx[correlated_sites]\n",
        "\n",
        "\n",
        "pca1 = decomposition.PCA(n_components=10)\n",
        "pca_model1=pca1.fit(dfx_new)\n",
        "x_pca1=pca1.transform(dfx_new)\n",
        "dfx_pca1 = pd.DataFrame( data=x_pca1)\n",
        "\n",
        "\n",
        "\n",
        "max_index1 = 0\n",
        "max_corre1 = 0\n",
        "corre1 = []\n",
        "\n",
        "for i in range(0, 10):\n",
        "  correlation1 = dfx_pca1[i].corr(dfy[0]) ** 2\n",
        "  corre1.append(correlation1) \n",
        "  if correlation1 > max_corre1:\n",
        "    max_corre1 = correlation1\n",
        "    max_index1 = i\n",
        "\n",
        "print(\"correlation: \", corre1)\n",
        "print(\"part(c), PC\", max_index1+1)"
      ],
      "execution_count": 77,
      "outputs": [
        {
          "output_type": "stream",
          "text": [
            "correlation:  [0.00039052615547974245, 0.02432150217775333, 1.1550836177824945e-05, 0.005453723167396756, 0.0006577611249937303, 0.0012983619879422734, 0.024796152425776152, 0.005852832724571434, 0.020280129839720315, 0.01027692229831118]\n",
            "part(c), PC 7\n"
          ],
          "name": "stdout"
        }
      ]
    }
  ]
}